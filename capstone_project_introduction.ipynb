{
 "cells": [
  {
   "cell_type": "markdown",
   "metadata": {},
   "source": [
    "# Introduction/Business Problem\n",
    "\n",
    "### The goal of this project is to provide meaningful information to someone who wants to plan a bike ride using the existing Citi Bike network in New York City. It can be someone who already lives there and either needs to go on an occasional bike trip or even wants to plan regular trips. But the target audience can also include somebody who is moving in and wants to rely on the bike share program, and tourists who wants to visit the city in an active way. In any case, information regarding the most common trips, their durations and the point of interests at the destination are useful for planning.\n",
    "\n",
    "### The assumption in this work is that a start station where to pick up the bicycle is chosen, and the user is looking for information regarding the final destinations. Specifically, the final goal is to highlight the type of venues and point of interest located near the end station of the trip. To do this, different steps are taken. First, an existing bike station is selected as starting point, and its data in terms of past trips to other existing stations are cleaned and analyzed. Then, the Foursquare API explore feature is exploited to find the most popular venues around the destination stations. Also, clustering techniques are used to find patterns, and from the clustering results and the location data, conclusion are drawn."
   ]
  }
 ],
 "metadata": {
  "kernelspec": {
   "display_name": "Python 3",
   "language": "python",
   "name": "python3"
  },
  "language_info": {
   "codemirror_mode": {
    "name": "ipython",
    "version": 3
   },
   "file_extension": ".py",
   "mimetype": "text/x-python",
   "name": "python",
   "nbconvert_exporter": "python",
   "pygments_lexer": "ipython3",
   "version": "3.6.6"
  }
 },
 "nbformat": 4,
 "nbformat_minor": 2
}
