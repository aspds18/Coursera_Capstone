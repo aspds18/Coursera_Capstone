{
 "cells": [
  {
   "cell_type": "markdown",
   "metadata": {},
   "source": [
    "IBM Data Science Capstone course.\n",
    "This notebook is for part 1 of week 3 assignment.\n",
    "The Wikipedia page with Toronto's list of postal codes, boroughs and neighborhoods is scraped and a dataframe is created."
   ]
  },
  {
   "cell_type": "code",
   "execution_count": 3,
   "metadata": {},
   "outputs": [],
   "source": [
    "#import libraries\n",
    "import pandas as pd\n",
    "import requests\n",
    "from bs4 import BeautifulSoup"
   ]
  },
  {
   "cell_type": "markdown",
   "metadata": {},
   "source": [
    "I used BeautifulSoup to scrape the Wikipedia page. I inspected the html code of the page to find the table and its class."
   ]
  },
  {
   "cell_type": "code",
   "execution_count": 4,
   "metadata": {},
   "outputs": [],
   "source": [
    "# get wikipedia page html\n",
    "url='https://en.wikipedia.org/wiki/List_of_postal_codes_of_Canada:_M'\n",
    "source=requests.get(url).text\n",
    "soup=BeautifulSoup(source,'lxml')\n",
    "\n",
    "#print(soup)\n",
    "#after inspecting html of page, the class of the table is found\n",
    "table = soup.find('table', {\"class\": \"wikitable sortable\"})"
   ]
  },
  {
   "cell_type": "markdown",
   "metadata": {},
   "source": [
    "I isolated the rows of the table using their tags (tr) and then found the relevant data in the columns (td). I created a dataframe and then cleaned it up by removing the rows that don't have a borough, assigning the borough's name to neighborhoods that don't have a name and joining the rows that have the same borough's name."
   ]
  },
  {
   "cell_type": "code",
   "execution_count": 5,
   "metadata": {},
   "outputs": [
    {
     "data": {
      "text/html": [
       "<div>\n",
       "<style scoped>\n",
       "    .dataframe tbody tr th:only-of-type {\n",
       "        vertical-align: middle;\n",
       "    }\n",
       "\n",
       "    .dataframe tbody tr th {\n",
       "        vertical-align: top;\n",
       "    }\n",
       "\n",
       "    .dataframe thead th {\n",
       "        text-align: right;\n",
       "    }\n",
       "</style>\n",
       "<table border=\"1\" class=\"dataframe\">\n",
       "  <thead>\n",
       "    <tr style=\"text-align: right;\">\n",
       "      <th></th>\n",
       "      <th>PostalCode</th>\n",
       "      <th>Borough</th>\n",
       "      <th>Neighborhood</th>\n",
       "    </tr>\n",
       "  </thead>\n",
       "  <tbody>\n",
       "    <tr>\n",
       "      <th>0</th>\n",
       "      <td>M1B</td>\n",
       "      <td>Scarborough</td>\n",
       "      <td>Rouge, Malvern</td>\n",
       "    </tr>\n",
       "    <tr>\n",
       "      <th>1</th>\n",
       "      <td>M1C</td>\n",
       "      <td>Scarborough</td>\n",
       "      <td>Highland Creek, Rouge Hill, Port Union</td>\n",
       "    </tr>\n",
       "    <tr>\n",
       "      <th>2</th>\n",
       "      <td>M1E</td>\n",
       "      <td>Scarborough</td>\n",
       "      <td>Guildwood, Morningside, West Hill</td>\n",
       "    </tr>\n",
       "    <tr>\n",
       "      <th>3</th>\n",
       "      <td>M1G</td>\n",
       "      <td>Scarborough</td>\n",
       "      <td>Woburn</td>\n",
       "    </tr>\n",
       "    <tr>\n",
       "      <th>4</th>\n",
       "      <td>M1H</td>\n",
       "      <td>Scarborough</td>\n",
       "      <td>Cedarbrae</td>\n",
       "    </tr>\n",
       "  </tbody>\n",
       "</table>\n",
       "</div>"
      ],
      "text/plain": [
       "  PostalCode      Borough                            Neighborhood\n",
       "0        M1B  Scarborough                          Rouge, Malvern\n",
       "1        M1C  Scarborough  Highland Creek, Rouge Hill, Port Union\n",
       "2        M1E  Scarborough       Guildwood, Morningside, West Hill\n",
       "3        M1G  Scarborough                                  Woburn\n",
       "4        M1H  Scarborough                               Cedarbrae"
      ]
     },
     "execution_count": 5,
     "metadata": {},
     "output_type": "execute_result"
    }
   ],
   "source": [
    "rows=table.find_all('tr') #all table's rows\n",
    "\n",
    "# find name of columns from first row of table\n",
    "col_hs=rows[0].find_all('th') #columns name have tag <th\n",
    "col_names=[colh.text.rstrip('\\n') for colh in col_hs]\n",
    "table_data=[]\n",
    "for row in rows[1:]:\n",
    "    col_data=row.find_all('td') #table elements have tag <td\n",
    "    col_data=[col.text.rstrip('\\n') for col in col_data]\n",
    "    table_data.append([cell_data for cell_data in col_data])\n",
    "table_df = pd.DataFrame(table_data, columns=col_names) #create dataframe\n",
    "\n",
    "# Remove rows that don't have an assigned borough\n",
    "table_df1=table_df[table_df['Borough']!='Not assigned'].reset_index().drop(['index'],axis=1)\n",
    "\n",
    "# Assign borough's name to neighborhoods that don't have a name\n",
    "table_df1['Neighbourhood'][table_df1['Neighbourhood']=='Not assigned']=table_df1['Borough']\n",
    "\n",
    "# list of unique post codes and corresponding boroughs\n",
    "df2=table_df1.drop_duplicates(subset=['Postcode','Borough']).sort_values(by='Postcode',axis=0,ascending=True)\n",
    "postc_list=df2['Postcode']\n",
    "boro_list=df2['Borough']\n",
    "\n",
    "neigh_list=[]\n",
    "s=', ' #delimiter\n",
    "for pc in postc_list:\n",
    "    neigh_list.append(s.join(table_df1[table_df1['Postcode']==pc]['Neighbourhood']))\n",
    "\n",
    "newdf=pd.DataFrame({'PostalCode':postc_list, 'Borough': boro_list,'Neighborhood': neigh_list}).reset_index(drop=True)\n",
    "newdf.head()"
   ]
  },
  {
   "cell_type": "code",
   "execution_count": 6,
   "metadata": {},
   "outputs": [
    {
     "name": "stdout",
     "output_type": "stream",
     "text": [
      "The new dataframe has 103 rows\n"
     ]
    }
   ],
   "source": [
    "print('The new dataframe has {} rows'.format(newdf.shape[0]))"
   ]
  }
 ],
 "metadata": {
  "kernelspec": {
   "display_name": "Python 3",
   "language": "python",
   "name": "python3"
  },
  "language_info": {
   "codemirror_mode": {
    "name": "ipython",
    "version": 3
   },
   "file_extension": ".py",
   "mimetype": "text/x-python",
   "name": "python",
   "nbconvert_exporter": "python",
   "pygments_lexer": "ipython3",
   "version": "3.6.6"
  }
 },
 "nbformat": 4,
 "nbformat_minor": 2
}
